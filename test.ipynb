{
 "cells": [
  {
   "cell_type": "code",
   "execution_count": 24,
   "metadata": {},
   "outputs": [],
   "source": [
    "import openai\n",
    "from dotenv import load_dotenv\n",
    "from github import Github, GithubException\n",
    "import re"
   ]
  },
  {
   "cell_type": "code",
   "execution_count": 2,
   "metadata": {},
   "outputs": [],
   "source": [
    "def parse_python_code(input_str):\n",
    "    pattern = r'```python\\n(.*?)\\n```'\n",
    "    result = re.search(pattern, input_str, re.DOTALL)\n",
    "    if result:\n",
    "        return result.group(1)\n",
    "    else:\n",
    "        return \"No match found\""
   ]
  },
  {
   "cell_type": "code",
   "execution_count": 3,
   "metadata": {},
   "outputs": [
    {
     "data": {
      "text/plain": [
       "True"
      ]
     },
     "execution_count": 3,
     "metadata": {},
     "output_type": "execute_result"
    }
   ],
   "source": [
    "load_dotenv()"
   ]
  },
  {
   "cell_type": "code",
   "execution_count": 4,
   "metadata": {},
   "outputs": [],
   "source": [
    "# Login and get repo\n",
    "repo_path = \"Scott-Huston/gpt_dev\"\n",
    "\n",
    "g = Github(os.getenv(\"GH_TOKEN\"))\n",
    "repo = g.get_repo(repo_path)"
   ]
  },
  {
   "cell_type": "code",
   "execution_count": null,
   "metadata": {},
   "outputs": [],
   "source": []
  },
  {
   "cell_type": "code",
   "execution_count": 5,
   "metadata": {},
   "outputs": [
    {
     "data": {
      "text/plain": [
       "['.gitignore', 'README.md']"
      ]
     },
     "execution_count": 5,
     "metadata": {},
     "output_type": "execute_result"
    }
   ],
   "source": [
    "# Get file paths for all files in repo\n",
    "# get_contents only gets root level at first\n",
    "\n",
    "filepaths = []\n",
    "contents = repo.get_contents(\"\")\n",
    "while contents:\n",
    "    file_content = contents.pop(0)\n",
    "    if file_content.type == \"dir\":\n",
    "        # Add contents of subfolder\n",
    "        contents.extend(repo.get_contents(file_content.path))\n",
    "    else:\n",
    "        filepaths.append(file_content.path)\n",
    "\n",
    "filepaths"
   ]
  },
  {
   "cell_type": "code",
   "execution_count": 6,
   "metadata": {},
   "outputs": [
    {
     "data": {
      "text/plain": [
       "'FILE PATH:\\n.gitignore\\nFILE CONTENT:\\nb\"# Byte-compiled / optimized / DLL files\\\\n__pycache__/\\\\n*.py[cod]\\\\n*$py.class\\\\n\\\\n# C extensions\\\\n*.so\\\\n\\\\n# Distribution / packaging\\\\n.Python\\\\nbuild/\\\\ndevelop-eggs/\\\\ndist/\\\\ndownloads/\\\\neggs/\\\\n.eggs/\\\\nlib/\\\\nlib64/\\\\nparts/\\\\nsdist/\\\\nvar/\\\\nwheels/\\\\nshare/python-wheels/\\\\n*.egg-info/\\\\n.installed.cfg\\\\n*.egg\\\\nMANIFEST\\\\n\\\\n# PyInstaller\\\\n#  Usually these files are written by a python script from a template\\\\n#  before PyInstaller builds the exe, so as to inject date/other infos into it.\\\\n*.manifest\\\\n*.spec\\\\n\\\\n# Installer logs\\\\npip-log.txt\\\\npip-delete-this-directory.txt\\\\n\\\\n# Unit test / coverage reports\\\\nhtmlcov/\\\\n.tox/\\\\n.nox/\\\\n.coverage\\\\n.coverage.*\\\\n.cache\\\\nnosetests.xml\\\\ncoverage.xml\\\\n*.cover\\\\n*.py,cover\\\\n.hypothesis/\\\\n.pytest_cache/\\\\ncover/\\\\n\\\\n# Translations\\\\n*.mo\\\\n*.pot\\\\n\\\\n# Django stuff:\\\\n*.log\\\\nlocal_settings.py\\\\ndb.sqlite3\\\\ndb.sqlite3-journal\\\\n\\\\n# Flask stuff:\\\\ninstance/\\\\n.webassets-cache\\\\n\\\\n# Scrapy stuff:\\\\n.scrapy\\\\n\\\\n# Sphinx documentation\\\\ndocs/_build/\\\\n\\\\n# PyBuilder\\\\n.pybuilder/\\\\ntarget/\\\\n\\\\n# Jupyter Notebook\\\\n.ipynb_checkpoints\\\\n\\\\n# IPython\\\\nprofile_default/\\\\nipython_config.py\\\\n\\\\n# pyenv\\\\n#   For a library or package, you might want to ignore these files since the code is\\\\n#   intended to run in multiple environments; otherwise, check them in:\\\\n# .python-version\\\\n\\\\n# pipenv\\\\n#   According to pypa/pipenv#598, it is recommended to include Pipfile.lock in version control.\\\\n#   However, in case of collaboration, if having platform-specific dependencies or dependencies\\\\n#   having no cross-platform support, pipenv may install dependencies that don\\'t work, or not\\\\n#   install all needed dependencies.\\\\n#Pipfile.lock\\\\n\\\\n# poetry\\\\n#   Similar to Pipfile.lock, it is generally recommended to include poetry.lock in version control.\\\\n#   This is especially recommended for binary packages to ensure reproducibility, and is more\\\\n#   commonly ignored for libraries.\\\\n#   https://python-poetry.org/docs/basic-usage/#commit-your-poetrylock-file-to-version-control\\\\n#poetry.lock\\\\n\\\\n# pdm\\\\n#   Similar to Pipfile.lock, it is generally recommended to include pdm.lock in version control.\\\\n#pdm.lock\\\\n#   pdm stores project-wide configurations in .pdm.toml, but it is recommended to not include it\\\\n#   in version control.\\\\n#   https://pdm.fming.dev/#use-with-ide\\\\n.pdm.toml\\\\n\\\\n# PEP 582; used by e.g. github.com/David-OConnor/pyflow and github.com/pdm-project/pdm\\\\n__pypackages__/\\\\n\\\\n# Celery stuff\\\\ncelerybeat-schedule\\\\ncelerybeat.pid\\\\n\\\\n# SageMath parsed files\\\\n*.sage.py\\\\n\\\\n# Environments\\\\n.env\\\\n.venv\\\\nenv/\\\\nvenv/\\\\nENV/\\\\nenv.bak/\\\\nvenv.bak/\\\\n\\\\n# Spyder project settings\\\\n.spyderproject\\\\n.spyproject\\\\n\\\\n# Rope project settings\\\\n.ropeproject\\\\n\\\\n# mkdocs documentation\\\\n/site\\\\n\\\\n# mypy\\\\n.mypy_cache/\\\\n.dmypy.json\\\\ndmypy.json\\\\n\\\\n# Pyre type checker\\\\n.pyre/\\\\n\\\\n# pytype static type analyzer\\\\n.pytype/\\\\n\\\\n# Cython debug symbols\\\\ncython_debug/\\\\n\\\\n# PyCharm\\\\n#  JetBrains specific template is maintained in a separate JetBrains.gitignore that can\\\\n#  be found at https://github.com/github/gitignore/blob/main/Global/JetBrains.gitignore\\\\n#  and can be added to the global gitignore or merged into this file.  For a more nuclear\\\\n#  option (not recommended) you can uncomment the following to ignore the entire idea folder.\\\\n#.idea/\\\\n\"\\n\\nFILE PATH:\\nREADME.md\\nFILE CONTENT:\\nb\\'# gpt_dev\\'\\n\\n'"
      ]
     },
     "execution_count": 6,
     "metadata": {},
     "output_type": "execute_result"
    }
   ],
   "source": [
    "# Represent contents of repo in a long string\n",
    "repo_content_string = \"\"\n",
    "\n",
    "for filepath in filepaths:\n",
    "    repo_content_string += f\"FILE PATH:\\n{filepath}\\nFILE CONTENT:\\n\"\n",
    "\n",
    "    file_content = repo.get_contents(filepath).decoded_content\n",
    "    repo_content_string += f\"{file_content}\\n\\n\"\n",
    "\n",
    "repo_content_string"
   ]
  },
  {
   "cell_type": "code",
   "execution_count": 7,
   "metadata": {},
   "outputs": [],
   "source": [
    "# Authenticate\n",
    "openai.api_key = os.getenv(\"OPENAI_API_KEY\")"
   ]
  },
  {
   "cell_type": "code",
   "execution_count": 8,
   "metadata": {},
   "outputs": [],
   "source": [
    "system_message = \"You are a world-class 10X programmer.\" \n",
    "\n",
    "# You will be given the contents \\\n",
    "#     of a repository and a description of a task. You will first ask any clarifying questions \\\n",
    "#     that could be useful to resolve any ambiguity. After that, you will submit a pull request \\\n",
    "#     to complete the task that was described by outputting code \"\n",
    "\n",
    "task_description = \"Please add a markdown file to the repo with an overview of how a human-level large language model \\\n",
    "could be used to create pull requests with high quality code. Feel free to add any additional ideas for how the model \\\n",
    "could be useful for code development generally.\"\n",
    "\n",
    "clarification_prompt = \"Do not attempt to complete the task yet. Are there any questions you have about the task before you begin?\"\n",
    "\n",
    "first_message = f\"\"\"Here are the contents of a code repository on Github:\n",
    "{repo_content_string}\n",
    "Task Description:\n",
    "{task_description}\n",
    "{clarification_prompt}\n",
    "\"\"\"\n",
    "\n",
    "response = openai.ChatCompletion.create(\n",
    "  model=\"gpt-4\",\n",
    "  messages=[\n",
    "        {\"role\": \"system\", \"content\": system_message},\n",
    "        {\"role\": \"user\", \"content\": first_message}\n",
    "        # {\"role\": \"assistant\", \"content\": \"The Los Angeles Dodgers won the World Series in 2020.\"},\n",
    "        # {\"role\": \"user\", \"content\": \"Where was it played?\"}\n",
    "    ]\n",
    ")\n",
    "\n"
   ]
  },
  {
   "cell_type": "code",
   "execution_count": 9,
   "metadata": {},
   "outputs": [
    {
     "name": "stdout",
     "output_type": "stream",
     "text": [
      "{\n",
      "  \"choices\": [\n",
      "    {\n",
      "      \"finish_reason\": \"stop\",\n",
      "      \"index\": 0,\n",
      "      \"message\": {\n",
      "        \"content\": \"No questions. I will create a markdown file with the requested content. Here it is:\\n\\nFILE PATH:\\nlanguage_model_code_dev.md\\n\\nFILE CONTENT:\\n```\\n# Human-Level Language Model for Code Development\\n\\nHuman-level large language models, such as GPT, can revolutionize the way we develop code by automating several aspects of the coding process. In this document, we explore the potential usage of such models for creating high-quality pull requests and code development in general.\\n\\n## Creating High-Quality Pull Requests\\n\\n1. **Code Review**: A human-level language model can analyze the code changes and provide suggestions to improve code quality or catch potential issues before they become a problem. This can also help in maintaining a consistent code style throughout the project.\\n\\n2. **Commit Messages**: The language model can summarize the changes in a commit and automatically generate a concise and informative commit message.\\n\\n3. **Automated Testing**: Based on the code changes, the model can suggest or even create relevant test cases to ensure proper test coverage and verify the code's correctness.\\n\\n4. **Documentation**: The language model can analyze the code and auto-generate or update the corresponding documentation. This can save developers' time and also reduce the chances of outdated or missing documentation.\\n\\n5. **Code Refactoring**: The model can suggest refactoring opportunities to improve code maintainability, readability, and performance.\\n\\n## Additional Ideas for Code Development\\n\\n1. **Code Completion**: A language model can provide context-aware code completion suggestions, helping developers write code faster and with fewer errors.\\n\\n2. **Error Detection**: The model can detect syntax and logical errors in the code and offer suggestions to fix them.\\n\\n3. **Code Optimization**: The language model can suggest performance optimizations and best practices to improve the code's efficiency.\\n\\n4. **Design Pattern Suggestion**: The model can analyze the code and suggest appropriate design patterns to simplify complex code structures, promote code reuse, and improve maintainability.\\n\\n5. **Code Translation**: The language model can translate code between different programming languages or coding styles, aiding developers new to a language or working on a project that requires integration between multiple programming languages.\\n\\n6. **API Integration**: The model can analyze code and suggest suitable APIs or libraries for a specific functionality, reducing the time needed for research and improving code quality.\\n\\nIn conclusion, utilizing human-level large language models in code development can greatly improve the quality of code, efficiency, and overall collaboration in projects. As these models continue to advance, it's essential to explore new ways to integrate them into our development workflows.\\n```\\n\\nLet me know if any changes are needed.\",\n",
      "        \"role\": \"assistant\"\n",
      "      }\n",
      "    }\n",
      "  ],\n",
      "  \"created\": 1685290918,\n",
      "  \"id\": \"chatcmpl-7LDRWgmHFwhj3BqXQBP3BZwBHMGmR\",\n",
      "  \"model\": \"gpt-4-0314\",\n",
      "  \"object\": \"chat.completion\",\n",
      "  \"usage\": {\n",
      "    \"completion_tokens\": 522,\n",
      "    \"prompt_tokens\": 1028,\n",
      "    \"total_tokens\": 1550\n",
      "  }\n",
      "}\n"
     ]
    }
   ],
   "source": [
    "print(response)"
   ]
  },
  {
   "cell_type": "code",
   "execution_count": 10,
   "metadata": {},
   "outputs": [
    {
     "data": {
      "text/plain": [
       "\"No questions. I will create a markdown file with the requested content. Here it is:\\n\\nFILE PATH:\\nlanguage_model_code_dev.md\\n\\nFILE CONTENT:\\n```\\n# Human-Level Language Model for Code Development\\n\\nHuman-level large language models, such as GPT, can revolutionize the way we develop code by automating several aspects of the coding process. In this document, we explore the potential usage of such models for creating high-quality pull requests and code development in general.\\n\\n## Creating High-Quality Pull Requests\\n\\n1. **Code Review**: A human-level language model can analyze the code changes and provide suggestions to improve code quality or catch potential issues before they become a problem. This can also help in maintaining a consistent code style throughout the project.\\n\\n2. **Commit Messages**: The language model can summarize the changes in a commit and automatically generate a concise and informative commit message.\\n\\n3. **Automated Testing**: Based on the code changes, the model can suggest or even create relevant test cases to ensure proper test coverage and verify the code's correctness.\\n\\n4. **Documentation**: The language model can analyze the code and auto-generate or update the corresponding documentation. This can save developers' time and also reduce the chances of outdated or missing documentation.\\n\\n5. **Code Refactoring**: The model can suggest refactoring opportunities to improve code maintainability, readability, and performance.\\n\\n## Additional Ideas for Code Development\\n\\n1. **Code Completion**: A language model can provide context-aware code completion suggestions, helping developers write code faster and with fewer errors.\\n\\n2. **Error Detection**: The model can detect syntax and logical errors in the code and offer suggestions to fix them.\\n\\n3. **Code Optimization**: The language model can suggest performance optimizations and best practices to improve the code's efficiency.\\n\\n4. **Design Pattern Suggestion**: The model can analyze the code and suggest appropriate design patterns to simplify complex code structures, promote code reuse, and improve maintainability.\\n\\n5. **Code Translation**: The language model can translate code between different programming languages or coding styles, aiding developers new to a language or working on a project that requires integration between multiple programming languages.\\n\\n6. **API Integration**: The model can analyze code and suggest suitable APIs or libraries for a specific functionality, reducing the time needed for research and improving code quality.\\n\\nIn conclusion, utilizing human-level large language models in code development can greatly improve the quality of code, efficiency, and overall collaboration in projects. As these models continue to advance, it's essential to explore new ways to integrate them into our development workflows.\\n```\\n\\nLet me know if any changes are needed.\""
      ]
     },
     "execution_count": 10,
     "metadata": {},
     "output_type": "execute_result"
    }
   ],
   "source": [
    "first_response_content = response[\"choices\"][0][\"message\"][\"content\"]\n",
    "first_response_content"
   ]
  },
  {
   "cell_type": "code",
   "execution_count": 25,
   "metadata": {},
   "outputs": [
    {
     "data": {
      "text/plain": [
       "Branch(name=\"test\")"
      ]
     },
     "execution_count": 25,
     "metadata": {},
     "output_type": "execute_result"
    }
   ],
   "source": [
    "source_branch = '{repo.default_branch}'\n",
    "target_branch = 'test'\n",
    "\n",
    "try:\n",
    "    # Test to see if branch already exists\n",
    "    repo.get_branch(\"test\")\n",
    "except GithubException as e:\n",
    "    if e.status == 404:\n",
    "        # If branch does not exist, create it\n",
    "        sb = repo.get_branch(source_branch)\n",
    "        repo.create_git_ref(ref='refs/heads/' + target_branch, sha=sb.commit.sha)\n",
    "\n",
    "repo.get_branch(\"test\")"
   ]
  },
  {
   "cell_type": "code",
   "execution_count": 27,
   "metadata": {},
   "outputs": [],
   "source": [
    "create_pr_message = f\"\"\"Ok, now please create a pull request to complete the task using the PyGithub Python library. You should create a new branch, create/modify/delete files as necessary, and then create a pull request.\n",
    "\n",
    "# Example of creating a branch\n",
    "\n",
    "source_branch = '{repo.default_branch}'\n",
    "target_branch = 'test'\n",
    "\n",
    "try:\n",
    "    # Test to see if branch already exists\n",
    "    repo.get_branch(\"test\")\n",
    "except GithubException as e:\n",
    "    if e.status == 404:\n",
    "        # If branch does not exist, create it\n",
    "        sb = repo.get_branch(source_branch)\n",
    "        repo.create_git_ref(ref='refs/heads/' + target_branch, sha=sb.commit.sha)\n",
    "\n",
    "# Example of creating a new file\n",
    "file_content = \"This is the file content\"\n",
    "commit_message = \"create test file\"\n",
    "repo.create_file(path=\"test.txt\", message=commit_message, content=file_content, branch=\"test\")\n",
    "\n",
    "# Example of updating a file\n",
    "contents = repo.get_contents(\"test.txt\", ref=\"test\")\n",
    "repo.update_file(contents.path, \"more tests\", \"more tests\", contents.sha, branch=\"test\")\n",
    "\n",
    "# Example of deleting a file\n",
    "contents = repo.get_contents(\"test.txt\", ref=\"test\")\n",
    "repo.delete_file(contents.path, message=\"remove test\", sha=contents.sha, branch=\"test\")\n",
    "\n",
    "# Example of creating the PR\n",
    "body = '''\n",
    "This PR created, updated and deleted a test file\n",
    "'''\n",
    "repo.create_pull(title=\"Test file\", body=body, head=\"test\", base=repo.default_branch)\n",
    "\n",
    "\n",
    "YOUR ENTIRE RESPONSE SHOULD BE EXCLUSIVELY PYTHON CODE. YOUR RESPONSE MUST RUN IN PYTHON AS-IS TO CREATE THE PULL REQUEST.\n",
    "\n",
    "Your response will be run in a python script after the following code has already been run.\n",
    "\n",
    "from github import Github, GithubException\n",
    "\n",
    "# Login and get repo\n",
    "g = Github(os.getenv(\"GH_TOKEN\"))\n",
    "repo = g.get_repo({repo_path})\n",
    "\n",
    "\"\"\"\n",
    "\n",
    "response = openai.ChatCompletion.create(\n",
    "  model=\"gpt-4\",\n",
    "  messages=[\n",
    "        {\"role\": \"system\", \"content\": system_message},\n",
    "        {\"role\": \"user\", \"content\": first_message},\n",
    "        {\"role\": \"assistant\", \"content\": first_response_content},\n",
    "        {\"role\": \"user\", \"content\": create_pr_message}\n",
    "    ]\n",
    ")"
   ]
  },
  {
   "cell_type": "code",
   "execution_count": 28,
   "metadata": {},
   "outputs": [
    {
     "data": {
      "text/plain": [
       "'```python\\nfrom github import Github, GithubException\\nimport os\\n\\n# Login and get repo\\ng = Github(os.getenv(\"GH_TOKEN\"))\\nrepo = g.get_repo(\"Scott-Huston/gpt_dev\")\\n\\n# Create a new branch\\nsource_branch = \\'main\\'\\ntarget_branch = \\'language_model_code_dev\\'\\n\\ntry:\\n    # Test to see if branch already exists\\n    repo.get_branch(target_branch)\\nexcept GithubException as e:\\n    if e.status == 404:\\n        # If branch does not exist, create it\\n        sb = repo.get_branch(source_branch)\\n        repo.create_git_ref(ref=\\'refs/heads/\\' + target_branch, sha=sb.commit.sha)\\n\\n# Create a new file\\nfile_content = \\'\\'\\'\\n# Human-Level Language Model for Code Development\\n\\nHuman-level large language models, such as GPT, can revolutionize the way we develop code by automating several aspects of the coding process. In this document, we explore the potential usage of such models for creating high-quality pull requests and code development in general.\\n\\n## Creating High-Quality Pull Requests\\n\\n1. **Code Review**: A human-level language model can analyze the code changes and provide suggestions to improve code quality or catch potential issues before they become a problem. This can also help in maintaining a consistent code style throughout the project.\\n\\n2. **Commit Messages**: The language model can summarize the changes in a commit and automatically generate a concise and informative commit message.\\n\\n3. **Automated Testing**: Based on the code changes, the model can suggest or even create relevant test cases to ensure proper test coverage and verify the code\\'s correctness.\\n\\n4. **Documentation**: The language model can analyze the code and auto-generate or update the corresponding documentation. This can save developers\\' time and also reduce the chances of outdated or missing documentation.\\n\\n5. **Code Refactoring**: The model can suggest refactoring opportunities to improve code maintainability, readability, and performance.\\n\\n## Additional Ideas for Code Development\\n\\n1. **Code Completion**: A language model can provide context-aware code completion suggestions, helping developers write code faster and with fewer errors.\\n\\n2. **Error Detection**: The model can detect syntax and logical errors in the code and offer suggestions to fix them.\\n\\n3. **Code Optimization**: The language model can suggest performance optimizations and best practices to improve the code\\'s efficiency.\\n\\n4. **Design Pattern Suggestion**: The model can analyze the code and suggest appropriate design patterns to simplify complex code structures, promote code reuse, and improve maintainability.\\n\\n5. **Code Translation**: The language model can translate code between different programming languages or coding styles, aiding developers new to a language or working on a project that requires integration between multiple programming languages.\\n\\n6. **API Integration**: The model can analyze code and suggest suitable APIs or libraries for a specific functionality, reducing the time needed for research and improving code quality.\\n\\nIn conclusion, utilizing human-level large language models in code development can greatly improve the quality of code, efficiency, and overall collaboration in projects. As these models continue to advance, it\\'s essential to explore new ways to integrate them into our development workflows.\\n\\'\\'\\'\\n\\ncommit_message = \"Add language_model_code_dev.md with overview of human-level language model in code development\"\\nrepo.create_file(path=\"language_model_code_dev.md\", message=commit_message, content=file_content, branch=target_branch)\\n\\n# Create the PR\\nbody = \\'\\'\\'\\nThis PR adds a markdown file with an overview of using a human-level language model to create high-quality pull requests and code development.\\n\\'\\'\\'\\nrepo.create_pull(title=\"Add language model code development overview\", body=body, head=target_branch, base=repo.default_branch)\\n```'"
      ]
     },
     "execution_count": 28,
     "metadata": {},
     "output_type": "execute_result"
    }
   ],
   "source": [
    "create_pr_response = response[\"choices\"][0][\"message\"][\"content\"]\n",
    "create_pr_response"
   ]
  },
  {
   "cell_type": "code",
   "execution_count": 29,
   "metadata": {},
   "outputs": [],
   "source": [
    "exec(parse_python_code(create_pr_response))"
   ]
  },
  {
   "cell_type": "code",
   "execution_count": 19,
   "metadata": {},
   "outputs": [
    {
     "name": "stdout",
     "output_type": "stream",
     "text": [
      "from github import InputGitTreeElement\n",
      "\n",
      "# Create a new branch\n",
      "source_branch = 'main'\n",
      "target_branch = 'language_model_code_dev'\n",
      "\n",
      "sb = repo.get_branch(source_branch)\n",
      "repo.create_git_ref(ref='refs/heads/' + target_branch, sha=sb.commit.sha)\n",
      "\n",
      "# Create the new markdown file\n",
      "file_path = \"language_model_code_dev.md\"\n",
      "file_content = '''\n"
     ]
    },
    {
     "ename": "SyntaxError",
     "evalue": "unterminated triple-quoted string literal (detected at line 1) (<string>, line 1)",
     "output_type": "error",
     "traceback": [
      "Traceback \u001b[0;36m(most recent call last)\u001b[0m:\n",
      "\u001b[0m  File \u001b[1;32m/Library/Frameworks/Python.framework/Versions/3.11/lib/python3.11/site-packages/IPython/core/interactiveshell.py:3505\u001b[0m in \u001b[1;35mrun_code\u001b[0m\n    exec(code_obj, self.user_global_ns, self.user_ns)\u001b[0m\n",
      "\u001b[0;36m  Cell \u001b[0;32mIn[19], line 6\u001b[0;36m\n\u001b[0;31m    exec(loc)\u001b[0;36m\n",
      "\u001b[0;36m  File \u001b[0;32m<string>:1\u001b[0;36m\u001b[0m\n\u001b[0;31m    file_content = '''\u001b[0m\n\u001b[0m                   ^\u001b[0m\n\u001b[0;31mSyntaxError\u001b[0m\u001b[0;31m:\u001b[0m unterminated triple-quoted string literal (detected at line 1)\n"
     ]
    }
   ],
   "source": [
    "locs = parse_python_code(create_pr_response).split(\"\\n\")\n",
    "locs\n",
    "\n",
    "for loc in locs:\n",
    "    print(loc)\n",
    "    exec(loc)"
   ]
  },
  {
   "cell_type": "code",
   "execution_count": null,
   "metadata": {},
   "outputs": [],
   "source": [
    "## Need to separate out the middle of ```python\\n XXXX \\n```\n",
    "## Probably need to specify to not import any non-standard packages\n",
    "## Specifying that the response needs to be in python might be confusing if the repo is in another language\n",
    "## Wrap calls to gpt-4 in try/except to handle connection issues"
   ]
  },
  {
   "cell_type": "code",
   "execution_count": 32,
   "metadata": {},
   "outputs": [
    {
     "name": "stdout",
     "output_type": "stream",
     "text": [
      "worked\n"
     ]
    }
   ],
   "source": [
    "exec(\"from github import Github\\nimport os\\nprint('worked')\")"
   ]
  },
  {
   "cell_type": "code",
   "execution_count": 36,
   "metadata": {},
   "outputs": [
    {
     "ename": "UnknownObjectException",
     "evalue": "404 {\"message\": \"Not Found\", \"documentation_url\": \"https://docs.github.com/rest\"}",
     "output_type": "error",
     "traceback": [
      "\u001b[0;31m---------------------------------------------------------------------------\u001b[0m",
      "\u001b[0;31mUnknownObjectException\u001b[0m                    Traceback (most recent call last)",
      "Cell \u001b[0;32mIn[36], line 1\u001b[0m\n\u001b[0;32m----> 1\u001b[0m \u001b[43mexec\u001b[49m\u001b[43m(\u001b[49m\u001b[43mparse_python_code\u001b[49m\u001b[43m(\u001b[49m\u001b[43mcreate_pr_response\u001b[49m\u001b[43m)\u001b[49m\u001b[43m)\u001b[49m\n",
      "File \u001b[0;32m<string>:6\u001b[0m\n",
      "File \u001b[0;32m/Library/Frameworks/Python.framework/Versions/3.11/lib/python3.11/site-packages/github/MainClass.py:321\u001b[0m, in \u001b[0;36mGithub.get_repo\u001b[0;34m(self, full_name_or_id, lazy)\u001b[0m\n\u001b[1;32m    <a href='file:///Library/Frameworks/Python.framework/Versions/3.11/lib/python3.11/site-packages/github/MainClass.py?line=316'>317</a>\u001b[0m \u001b[39mif\u001b[39;00m lazy:\n\u001b[1;32m    <a href='file:///Library/Frameworks/Python.framework/Versions/3.11/lib/python3.11/site-packages/github/MainClass.py?line=317'>318</a>\u001b[0m     \u001b[39mreturn\u001b[39;00m Repository\u001b[39m.\u001b[39mRepository(\n\u001b[1;32m    <a href='file:///Library/Frameworks/Python.framework/Versions/3.11/lib/python3.11/site-packages/github/MainClass.py?line=318'>319</a>\u001b[0m         \u001b[39mself\u001b[39m\u001b[39m.\u001b[39m__requester, {}, {\u001b[39m\"\u001b[39m\u001b[39murl\u001b[39m\u001b[39m\"\u001b[39m: url}, completed\u001b[39m=\u001b[39m\u001b[39mFalse\u001b[39;00m\n\u001b[1;32m    <a href='file:///Library/Frameworks/Python.framework/Versions/3.11/lib/python3.11/site-packages/github/MainClass.py?line=319'>320</a>\u001b[0m     )\n\u001b[0;32m--> <a href='file:///Library/Frameworks/Python.framework/Versions/3.11/lib/python3.11/site-packages/github/MainClass.py?line=320'>321</a>\u001b[0m headers, data \u001b[39m=\u001b[39m \u001b[39mself\u001b[39;49m\u001b[39m.\u001b[39;49m__requester\u001b[39m.\u001b[39;49mrequestJsonAndCheck(\u001b[39m\"\u001b[39;49m\u001b[39mGET\u001b[39;49m\u001b[39m\"\u001b[39;49m, url)\n\u001b[1;32m    <a href='file:///Library/Frameworks/Python.framework/Versions/3.11/lib/python3.11/site-packages/github/MainClass.py?line=321'>322</a>\u001b[0m \u001b[39mreturn\u001b[39;00m Repository\u001b[39m.\u001b[39mRepository(\u001b[39mself\u001b[39m\u001b[39m.\u001b[39m__requester, headers, data, completed\u001b[39m=\u001b[39m\u001b[39mTrue\u001b[39;00m)\n",
      "File \u001b[0;32m/Library/Frameworks/Python.framework/Versions/3.11/lib/python3.11/site-packages/github/Requester.py:398\u001b[0m, in \u001b[0;36mRequester.requestJsonAndCheck\u001b[0;34m(self, verb, url, parameters, headers, input)\u001b[0m\n\u001b[1;32m    <a href='file:///Library/Frameworks/Python.framework/Versions/3.11/lib/python3.11/site-packages/github/Requester.py?line=396'>397</a>\u001b[0m \u001b[39mdef\u001b[39;00m \u001b[39mrequestJsonAndCheck\u001b[39m(\u001b[39mself\u001b[39m, verb, url, parameters\u001b[39m=\u001b[39m\u001b[39mNone\u001b[39;00m, headers\u001b[39m=\u001b[39m\u001b[39mNone\u001b[39;00m, \u001b[39minput\u001b[39m\u001b[39m=\u001b[39m\u001b[39mNone\u001b[39;00m):\n\u001b[0;32m--> <a href='file:///Library/Frameworks/Python.framework/Versions/3.11/lib/python3.11/site-packages/github/Requester.py?line=397'>398</a>\u001b[0m     \u001b[39mreturn\u001b[39;00m \u001b[39mself\u001b[39;49m\u001b[39m.\u001b[39;49m__check(\n\u001b[1;32m    <a href='file:///Library/Frameworks/Python.framework/Versions/3.11/lib/python3.11/site-packages/github/Requester.py?line=398'>399</a>\u001b[0m         \u001b[39m*\u001b[39;49m\u001b[39mself\u001b[39;49m\u001b[39m.\u001b[39;49mrequestJson(\n\u001b[1;32m    <a href='file:///Library/Frameworks/Python.framework/Versions/3.11/lib/python3.11/site-packages/github/Requester.py?line=399'>400</a>\u001b[0m             verb, url, parameters, headers, \u001b[39minput\u001b[39;49m, \u001b[39mself\u001b[39;49m\u001b[39m.\u001b[39;49m__customConnection(url)\n\u001b[1;32m    <a href='file:///Library/Frameworks/Python.framework/Versions/3.11/lib/python3.11/site-packages/github/Requester.py?line=400'>401</a>\u001b[0m         )\n\u001b[1;32m    <a href='file:///Library/Frameworks/Python.framework/Versions/3.11/lib/python3.11/site-packages/github/Requester.py?line=401'>402</a>\u001b[0m     )\n",
      "File \u001b[0;32m/Library/Frameworks/Python.framework/Versions/3.11/lib/python3.11/site-packages/github/Requester.py:423\u001b[0m, in \u001b[0;36mRequester.__check\u001b[0;34m(self, status, responseHeaders, output)\u001b[0m\n\u001b[1;32m    <a href='file:///Library/Frameworks/Python.framework/Versions/3.11/lib/python3.11/site-packages/github/Requester.py?line=420'>421</a>\u001b[0m output \u001b[39m=\u001b[39m \u001b[39mself\u001b[39m\u001b[39m.\u001b[39m__structuredFromJson(output)\n\u001b[1;32m    <a href='file:///Library/Frameworks/Python.framework/Versions/3.11/lib/python3.11/site-packages/github/Requester.py?line=421'>422</a>\u001b[0m \u001b[39mif\u001b[39;00m status \u001b[39m>\u001b[39m\u001b[39m=\u001b[39m \u001b[39m400\u001b[39m:\n\u001b[0;32m--> <a href='file:///Library/Frameworks/Python.framework/Versions/3.11/lib/python3.11/site-packages/github/Requester.py?line=422'>423</a>\u001b[0m     \u001b[39mraise\u001b[39;00m \u001b[39mself\u001b[39m\u001b[39m.\u001b[39m__createException(status, responseHeaders, output)\n\u001b[1;32m    <a href='file:///Library/Frameworks/Python.framework/Versions/3.11/lib/python3.11/site-packages/github/Requester.py?line=423'>424</a>\u001b[0m \u001b[39mreturn\u001b[39;00m responseHeaders, output\n",
      "\u001b[0;31mUnknownObjectException\u001b[0m: 404 {\"message\": \"Not Found\", \"documentation_url\": \"https://docs.github.com/rest\"}"
     ]
    }
   ],
   "source": [
    "exec(parse_python_code(create_pr_response))"
   ]
  },
  {
   "cell_type": "code",
   "execution_count": 26,
   "metadata": {},
   "outputs": [
    {
     "data": {
      "text/plain": [
       "'```python\\nfrom base64 import b64encode\\n\\n# Create a new branch\\nsource_branch = repo.default_branch\\ntarget_branch = \"feature/human-level-lm\"\\n\\nsb = repo.get_branch(source_branch)\\nrepo.create_git_ref(ref=\"refs/heads/\" + target_branch, sha=sb.commit.sha)\\n\\n# Create a markdown file with the requested content\\nfile_content = b64encode(b\\'\\'\\'# Human-level Large Language Model for Pull Requests\\n\\nA human-level large language model can significantly improve the process of code development, making it more efficient and reliable. This document provides an overview of how such a model can be employed to create pull requests with high-quality code.\\n\\n## Creating Pull Requests\\n\\nA large language model can be used to:\\n\\n1. **Analyze the codebase**: The model can be designed to understand the repository\\'s code structure, modules, functions, and logic.\\n2. **Identify modifications**: The model should be capable of detecting necessary changes, such as bug fixes, new feature additions, or code refactoring.\\n3. **Write code**: By leveraging the vast knowledge of programming languages and coding patterns, the model can generate high-quality code to address the identified modifications.\\n4. **Run tests**: The new code should pass all the relevant tests. The model would ensure test suite compliance prior to creating the pull request.\\n5. **Create meaningful commit messages**: The model can craft clear, concise, and relevant commit messages, providing an accurate description of the changes made.\\n\\n## Additional Uses for Code Development\\n\\nBesides creating pull requests, a human-level large language model can provide other valuable contributions in the realm of code development:\\n\\n1. **Code review**: The model can be employed as an intelligent code review assistant to teams and individuals, offering suggestions to enhance code quality, readability, and maintainability.\\n2. **Documentation**: It can generate comprehensive and well-structured documentation for software projects, ranging from inline comments to user guides, API references, and tutorials.\\n3. **Optimize existing code**: The language model can be tasked with identifying areas for code optimization, ensuring the best possible performance and scalability.\\n4. **Error detection and troubleshooting**: The model could be employed to proactively detect potential errors in the codebase, providing suggestions to rectify them and prevent the introduction of bugs.\\n5. **Refactoring**: The language model can propose suitable refactoring strategies that would adhere to best practices while minimizing the risk of introducing new issues.\\n\\nIn conclusion, a human-level large language model can contribute significantly to various aspects of code development, from the generation of high-quality code in pull requests to code review, optimization, error detection, and documentation.\\n\\'\\'\\').decode()\\n\\ncommit_message = \"Add markdown file for human-level large language model for PRs\"\\nrepo.create_file(path=\"human-level-lm.md\", message=commit_message, content=file_content, branch=target_branch)\\n\\n# Create the PR\\npr_title = \"Feature: Human-level Large Language Model for Pull Requests\"\\npr_body = \\'\\'\\'\\nThis PR adds a markdown file discussing the use of a human-level large language model for creating pull requests with high-quality code. It also includes additional ideas for how such a model could be useful in code development.\\n\\n### Changes:\\n- Added `human-level-lm.md` with an overview of using a human-level large language model for pull requests and general code development tasks.\\n\\'\\'\\'\\n\\npr = repo.create_pull(title=pr_title, body=pr_body, head=target_branch, base=repo.default_branch)\\n```\\n'"
      ]
     },
     "execution_count": 26,
     "metadata": {},
     "output_type": "execute_result"
    }
   ],
   "source": [
    "create_pr_response = response[\"choices\"][0][\"message\"][\"content\"]\n",
    "create_pr_response"
   ]
  },
  {
   "cell_type": "code",
   "execution_count": 24,
   "metadata": {},
   "outputs": [
    {
     "data": {
      "text/plain": [
       "'```python\\nfrom github import Github\\nimport os\\n\\n# Replace with your own Github access token\\naccess_token = os.environ.get(\"GITHUB_ACCESS_TOKEN\")\\ng = Github(access_token)\\n\\n# Get the repo object\\nrepo_owner = \"your_username\"\\nrepo_name = \"your_repo_name\"\\nrepo = g.get_user(repo_owner).get_repo(repo_name)\\n\\n# Create a new branch\\nsource_branch = repo.default_branch\\ntarget_branch = \\'new_branch_name\\'\\n\\nsb = repo.get_branch(source_branch)\\nrepo.create_git_ref(ref=\\'refs/heads/\\' + target_branch, sha=sb.commit.sha)\\n\\n# Create a new markdown file\\nfile_content = b\"\"\"\\n# Human-Level Large Language Model for Code Development\\n\\nA human-level large language model such as OpenAI GPT-3 can bring significant improvements to the process of code development. We\\'ll focus on some key benefits and ideas:\\n\\n## Creating pull requests with high-quality code\\n\\nA large language model can leverage pretrained knowledge and in-built code understanding capabilities to generate high-quality code snippets or entire functions for a specific task. By providing a detailed description of the desired functionality, a fine-tuned model can generate concise and efficient code.\\n\\nDevelopers can integrate the language model\\'s suggestions into their projects by working with their preferred Git tools. Once they\\'ve added the code to a feature branch, the system can automatically create a pull request for review.\\n\\n## Code review assistance\\n\\nLarge language models are also excellent at spotting syntax errors or potential bugs in the code. By integrating a language model into the code review process, developers can identify potential problems earlier, reducing the likelihood of introducing defects.\\n\\n## Documentation generation\\n\\nA language model can help create useful, readable documentation and comments for both existing and newly generated code, which can improve software maintainability.\\n\\n## Debugging assistance\\n\\nLanguage models trained on code debug logs and Stack Overflow discussions can help developers debug problems faster by suggesting potential fixes or guiding developers to relevant resources.\\n\\n## Code refactoring\\n\\nA language model can suggest and make code refactoring recommendations. By understanding the structure and patterns of the codebase, it can identify areas that need improvements, such as duplicated code, out-of-date dependencies, or inefficient algorithms.\\n\\n# Conclusion\\n\\nIn summary, human-level large language models have enormous potential in code development, from generating high-quality code snippets to assisting with debugging and refactoring efforts. Integrating a language model into your existing development workflow can streamline various aspects of the process and allow developers to focus on more high-level design concerns.\\n\"\"\"\\n\\ncommit_message = \"Add AI_code_assistance.md\"\\nrepo.create_file(path=\"AI_code_assistance.md\", message=commit_message, content=file_content, branch=target_branch)\\n\\n# Create the PR\\nbody = \\'\\'\\'\\nThis PR adds a markdown file outlining how a human-level large language model can be used to create pull requests with high-quality code and improve code development in general.\\n\\'\\'\\'\\nrepo.create_pull(title=\"Integration of AI to Improve Code Development\", body=body, head=target_branch, base=repo.default_branch)\\n```\\nDon\\'t forget to replace the variables `repo_owner`, `repo_name`, and `access_token` with your own information to create the pull request using the given code.'"
      ]
     },
     "execution_count": 24,
     "metadata": {},
     "output_type": "execute_result"
    }
   ],
   "source": [
    "create_pr_response = response[\"choices\"][0][\"message\"][\"content\"]\n",
    "create_pr_response\n"
   ]
  },
  {
   "cell_type": "code",
   "execution_count": null,
   "metadata": {},
   "outputs": [],
   "source": [
    "exec()"
   ]
  }
 ],
 "metadata": {
  "interpreter": {
   "hash": "aee8b7b246df8f9039afb4144a1f6fd8d2ca17a180786b69acc140d282b71a49"
  },
  "kernelspec": {
   "display_name": "Python 3.11.2 64-bit",
   "language": "python",
   "name": "python3"
  },
  "language_info": {
   "codemirror_mode": {
    "name": "ipython",
    "version": 3
   },
   "file_extension": ".py",
   "mimetype": "text/x-python",
   "name": "python",
   "nbconvert_exporter": "python",
   "pygments_lexer": "ipython3",
   "version": "3.11.2"
  },
  "orig_nbformat": 4
 },
 "nbformat": 4,
 "nbformat_minor": 2
}
