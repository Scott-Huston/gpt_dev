{
 "cells": [
  {
   "cell_type": "code",
   "execution_count": null,
   "metadata": {},
   "outputs": [],
   "source": [
    "import openai\n",
    "from dotenv import load_dotenv\n",
    "from github import Github, GithubException\n",
    "import re"
   ]
  },
  {
   "cell_type": "code",
   "execution_count": null,
   "metadata": {},
   "outputs": [],
   "source": [
    "def parse_python_code(input_str):\n",
    "    pattern = r'```python\\n(.*?)\\n```'\n",
    "    result = re.search(pattern, input_str, re.DOTALL)\n",
    "    if result:\n",
    "        return result.group(1)\n",
    "    else:\n",
    "        return \"No match found\""
   ]
  },
  {
   "cell_type": "code",
   "execution_count": null,
   "metadata": {},
   "outputs": [],
   "source": [
    "load_dotenv()"
   ]
  },
  {
   "cell_type": "code",
   "execution_count": null,
   "metadata": {},
   "outputs": [],
   "source": [
    "# Login and get repo\n",
    "repo_path = \"Scott-Huston/gpt_dev\"\n",
    "\n",
    "g = Github(os.getenv(\"GH_TOKEN\"))\n",
    "repo = g.get_repo(repo_path)"
   ]
  },
  {
   "cell_type": "code",
   "execution_count": null,
   "metadata": {},
   "outputs": [],
   "source": [
    "# Get file paths for all files in repo\n",
    "# get_contents only gets root level at first\n",
    "\n",
    "filepaths = []\n",
    "contents = repo.get_contents(\"\")\n",
    "while contents:\n",
    "    file_content = contents.pop(0)\n",
    "    if file_content.type == \"dir\":\n",
    "        # Add contents of subfolder\n",
    "        contents.extend(repo.get_contents(file_content.path))\n",
    "    else:\n",
    "        if file_content.path != \".gitignore\": # gitignore info just unnecessary tokens\n",
    "            filepaths.append(file_content.path)\n",
    "\n",
    "filepaths"
   ]
  },
  {
   "cell_type": "code",
   "execution_count": null,
   "metadata": {},
   "outputs": [],
   "source": [
    "# Represent contents of repo in a long string\n",
    "repo_content_string = \"\"\n",
    "\n",
    "for filepath in filepaths:\n",
    "    repo_content_string += f\"FILE PATH:\\n{filepath}\\nFILE CONTENT:\\n\"\n",
    "\n",
    "    file_content = repo.get_contents(filepath).decoded_content\n",
    "    repo_content_string += f\"{file_content}\\n\\n\"\n",
    "\n",
    "repo_content_string"
   ]
  },
  {
   "cell_type": "code",
   "execution_count": null,
   "metadata": {},
   "outputs": [],
   "source": [
    "# Authenticate\n",
    "openai.api_key = os.getenv(\"OPENAI_API_KEY\")"
   ]
  },
  {
   "cell_type": "code",
   "execution_count": null,
   "metadata": {},
   "outputs": [],
   "source": [
    "system_message = \"You are a world-class 10X programmer.\" \n",
    "\n",
    "\n",
    "task_description = \"Please take the general concept of the code in the test.ipynb notebook and turn it into well structured code with a script that can be executed in a user-friendly manner from the command line. Be sure to update the readme with good documentation and instructions as well\"\n",
    "\n",
    "clarification_prompt = \"Do not attempt to complete the task yet. Are there any questions you have about the task before you begin?\"\n",
    "\n",
    "first_message = f\"\"\"Here are the contents of a code repository on Github:\n",
    "{repo_content_string}\n",
    "Task Description:\n",
    "{task_description}\n",
    "{clarification_prompt}\n",
    "\"\"\"\n",
    "\n",
    "response = openai.ChatCompletion.create(\n",
    "  model=\"gpt-4-32k\",\n",
    "  messages=[\n",
    "        {\"role\": \"system\", \"content\": system_message},\n",
    "        {\"role\": \"user\", \"content\": first_message}\n",
    "    ]\n",
    ")"
   ]
  },
  {
   "cell_type": "code",
   "execution_count": null,
   "metadata": {},
   "outputs": [],
   "source": [
    "len(first_message.split(\" \"))"
   ]
  },
  {
   "cell_type": "code",
   "execution_count": null,
   "metadata": {},
   "outputs": [],
   "source": [
    "source_branch = '{repo.default_branch}'\n",
    "target_branch = 'test'\n",
    "\n",
    "try:\n",
    "    # Test to see if branch already exists\n",
    "    repo.get_branch(\"test\")\n",
    "except GithubException as e:\n",
    "    if e.status == 404:\n",
    "        # If branch does not exist, create it\n",
    "        sb = repo.get_branch(source_branch)\n",
    "        repo.create_git_ref(ref='refs/heads/' + target_branch, sha=sb.commit.sha)\n",
    "\n",
    "repo.get_branch(\"test\")"
   ]
  },
  {
   "cell_type": "code",
   "execution_count": null,
   "metadata": {},
   "outputs": [],
   "source": [
    "create_pr_message = f\"\"\"Ok, now please create a pull request to complete the task using the PyGithub Python library. You should create a new branch, create/modify/delete files as necessary, and then create a pull request.\n",
    "\n",
    "# Example of creating a branch\n",
    "\n",
    "source_branch = '{repo.default_branch}'\n",
    "target_branch = 'test'\n",
    "\n",
    "try:\n",
    "    # Test to see if branch already exists\n",
    "    repo.get_branch(\"test\")\n",
    "except GithubException as e:\n",
    "    if e.status == 404:\n",
    "        # If branch does not exist, create it\n",
    "        sb = repo.get_branch(source_branch)\n",
    "        repo.create_git_ref(ref='refs/heads/' + target_branch, sha=sb.commit.sha)\n",
    "\n",
    "# Example of creating a new file\n",
    "file_content = \"This is the file content\"\n",
    "commit_message = \"create test file\"\n",
    "repo.create_file(path=\"test.txt\", message=commit_message, content=file_content, branch=\"test\")\n",
    "\n",
    "# Example of updating a file\n",
    "contents = repo.get_contents(\"test.txt\", ref=\"test\")\n",
    "repo.update_file(contents.path, \"more tests\", \"more tests\", contents.sha, branch=\"test\")\n",
    "\n",
    "# Example of deleting a file\n",
    "contents = repo.get_contents(\"test.txt\", ref=\"test\")\n",
    "repo.delete_file(contents.path, message=\"remove test\", sha=contents.sha, branch=\"test\")\n",
    "\n",
    "# Example of creating the PR\n",
    "body = '''\n",
    "This PR created, updated and deleted a test file\n",
    "'''\n",
    "repo.create_pull(title=\"Test file\", body=body, head=\"test\", base=repo.default_branch)\n",
    "\n",
    "\n",
    "YOUR ENTIRE RESPONSE SHOULD BE EXCLUSIVELY PYTHON CODE. YOUR RESPONSE MUST RUN IN PYTHON AS-IS TO CREATE THE PULL REQUEST.\n",
    "\n",
    "Your response will be run in a python script after the following code has already been run.\n",
    "\n",
    "from github import Github, GithubException\n",
    "\n",
    "# Login and get repo\n",
    "g = Github(os.getenv(\"GH_TOKEN\"))\n",
    "repo = g.get_repo({repo_path})\n",
    "\n",
    "\"\"\"\n",
    "\n",
    "response = openai.ChatCompletion.create(\n",
    "  model=\"gpt-4\",\n",
    "  messages=[\n",
    "        {\"role\": \"system\", \"content\": system_message},\n",
    "        {\"role\": \"user\", \"content\": first_message},\n",
    "        {\"role\": \"assistant\", \"content\": first_response_content},\n",
    "        {\"role\": \"user\", \"content\": create_pr_message}\n",
    "    ]\n",
    ")"
   ]
  },
  {
   "cell_type": "code",
   "execution_count": null,
   "metadata": {},
   "outputs": [],
   "source": [
    "## Need to separate out the middle of ```python\\n XXXX \\n```\n",
    "## Probably need to specify to not import any non-standard packages\n",
    "## Specifying that the response needs to be in python might be confusing if the repo is in another language\n",
    "## Wrap calls to gpt-4 in try/except to handle connection issues"
   ]
  },
  {
   "cell_type": "code",
   "execution_count": null,
   "metadata": {},
   "outputs": [],
   "source": [
    "exec(parse_python_code(create_pr_response))"
   ]
  }
 ],
 "metadata": {
  "interpreter": {
   "hash": "aee8b7b246df8f9039afb4144a1f6fd8d2ca17a180786b69acc140d282b71a49"
  },
  "kernelspec": {
   "display_name": "Python 3.11.2 64-bit",
   "language": "python",
   "name": "python3"
  },
  "language_info": {
   "codemirror_mode": {
    "name": "ipython",
    "version": 3
   },
   "file_extension": ".py",
   "mimetype": "text/x-python",
   "name": "python",
   "nbconvert_exporter": "python",
   "pygments_lexer": "ipython3",
   "version": "3.11.2"
  },
  "orig_nbformat": 4
 },
 "nbformat": 4,
 "nbformat_minor": 2
}
