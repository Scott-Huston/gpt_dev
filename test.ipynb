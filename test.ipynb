{
 "cells": [
  {
   "cell_type": "code",
   "execution_count": 16,
   "metadata": {},
   "outputs": [],
   "source": [
    "import openai\n",
    "from dotenv import load_dotenv\n",
    "from github import Github, GithubException\n",
    "import re"
   ]
  },
  {
   "cell_type": "code",
   "execution_count": 17,
   "metadata": {},
   "outputs": [],
   "source": [
    "def parse_python_code(input_str):\n",
    "    pattern = r'```python\\n(.*?)\\n```'\n",
    "    result = re.search(pattern, input_str, re.DOTALL)\n",
    "    if result:\n",
    "        return result.group(1)\n",
    "    else:\n",
    "        return \"No match found\""
   ]
  },
  {
   "cell_type": "code",
   "execution_count": 18,
   "metadata": {},
   "outputs": [
    {
     "data": {
      "text/plain": [
       "True"
      ]
     },
     "execution_count": 18,
     "metadata": {},
     "output_type": "execute_result"
    }
   ],
   "source": [
    "load_dotenv()"
   ]
  },
  {
   "cell_type": "code",
   "execution_count": 19,
   "metadata": {},
   "outputs": [],
   "source": [
    "# Login and get repo\n",
    "repo_path = \"Scott-Huston/gpt_dev\"\n",
    "\n",
    "g = Github(os.getenv(\"GH_TOKEN\"))\n",
    "repo = g.get_repo(repo_path)"
   ]
  },
  {
   "cell_type": "code",
   "execution_count": 20,
   "metadata": {},
   "outputs": [
    {
     "data": {
      "text/plain": [
       "['README.md', 'requirements.txt', 'test.ipynb']"
      ]
     },
     "execution_count": 20,
     "metadata": {},
     "output_type": "execute_result"
    }
   ],
   "source": [
    "# Get file paths for all files in repo\n",
    "# get_contents only gets root level at first\n",
    "\n",
    "def get_repo_filepaths(repo):\n",
    "    filepaths = []\n",
    "    contents = repo.get_contents(\"\")\n",
    "    while contents:\n",
    "        file_content = contents.pop(0)\n",
    "        if file_content.type == \"dir\":\n",
    "            # Add contents of subfolder\n",
    "            contents.extend(repo.get_contents(file_content.path))\n",
    "        else:\n",
    "            if file_content.path != \".gitignore\": # gitignore info just unnecessary tokens\n",
    "                filepaths.append(file_content.path)\n",
    "    return filepaths\n",
    "\n",
    "filepaths"
   ]
  },
  {
   "cell_type": "code",
   "execution_count": 21,
   "metadata": {},
   "outputs": [
    {
     "data": {
      "text/plain": [
       "'FILE PATH:\\nREADME.md\\nFILE CONTENT:\\nb\\'# gpt_dev\\\\n\\\\npip install -r requirements.txt\\\\n\\\\nV1 Overall flow:\\\\n1. User inputs link to repo and prompt/documentation/ticket/coding standards etc.\\\\n2. Model asks any clarifying questions\\\\n3. Model creates PR\\\\n    (maybe another call to assess / edit the PR? Does the quality go up with a bunch of calls?)\\\\n4. Optional loop of\\\\n    a. additional feedback\\\\n    b. updated PR\\\\n\\\\nMore granular view\\\\n\\\\n- (Done) Represent entire repo as block of text. Possibly this can be done better with sequential calls to the model summarizing relevant parts of each file or something\\\\n    - Github api to iterate through all files and get contents?\\\\n    - How does the repo chat thing that exists do this?\\\\n\\\\n- How do I know whether there should be a message from the user with clarifications, or straight to pr gen?\\\\n\\\\n- How to create PR? How to specify content of different files? Need to give the model the github api docs?\\\\n    \\'\\n\\nFILE PATH:\\nrequirements.txt\\nFILE CONTENT:\\nb\\'openai==0.27.7\\\\nPyGithub==1.58.2\\\\npython-dotenv==1.0.0\\'\\n\\nFILE PATH:\\ntest.ipynb\\nFILE CONTENT:\\nb\\'{\\\\n \"cells\": [\\\\n  {\\\\n   \"cell_type\": \"code\",\\\\n   \"execution_count\": null,\\\\n   \"metadata\": {},\\\\n   \"outputs\": [],\\\\n   \"source\": [\\\\n    \"import openai\\\\\\\\n\",\\\\n    \"from dotenv import load_dotenv\\\\\\\\n\",\\\\n    \"from github import Github, GithubException\\\\\\\\n\",\\\\n    \"import re\"\\\\n   ]\\\\n  },\\\\n  {\\\\n   \"cell_type\": \"code\",\\\\n   \"execution_count\": null,\\\\n   \"metadata\": {},\\\\n   \"outputs\": [],\\\\n   \"source\": [\\\\n    \"def parse_python_code(input_str):\\\\\\\\n\",\\\\n    \"    pattern = r\\\\\\'```python\\\\\\\\\\\\\\\\n(.*?)\\\\\\\\\\\\\\\\n```\\\\\\'\\\\\\\\n\",\\\\n    \"    result = re.search(pattern, input_str, re.DOTALL)\\\\\\\\n\",\\\\n    \"    if result:\\\\\\\\n\",\\\\n    \"        return result.group(1)\\\\\\\\n\",\\\\n    \"    else:\\\\\\\\n\",\\\\n    \"        return \\\\\\\\\"No match found\\\\\\\\\"\"\\\\n   ]\\\\n  },\\\\n  {\\\\n   \"cell_type\": \"code\",\\\\n   \"execution_count\": null,\\\\n   \"metadata\": {},\\\\n   \"outputs\": [],\\\\n   \"source\": [\\\\n    \"load_dotenv()\"\\\\n   ]\\\\n  },\\\\n  {\\\\n   \"cell_type\": \"code\",\\\\n   \"execution_count\": null,\\\\n   \"metadata\": {},\\\\n   \"outputs\": [],\\\\n   \"source\": [\\\\n    \"# Login and get repo\\\\\\\\n\",\\\\n    \"repo_path = \\\\\\\\\"Scott-Huston/gpt_dev\\\\\\\\\"\\\\\\\\n\",\\\\n    \"\\\\\\\\n\",\\\\n    \"g = Github(os.getenv(\\\\\\\\\"GH_TOKEN\\\\\\\\\"))\\\\\\\\n\",\\\\n    \"repo = g.get_repo(repo_path)\"\\\\n   ]\\\\n  },\\\\n  {\\\\n   \"cell_type\": \"code\",\\\\n   \"execution_count\": null,\\\\n   \"metadata\": {},\\\\n   \"outputs\": [],\\\\n   \"source\": [\\\\n    \"# Get file paths for all files in repo\\\\\\\\n\",\\\\n    \"# get_contents only gets root level at first\\\\\\\\n\",\\\\n    \"\\\\\\\\n\",\\\\n    \"filepaths = []\\\\\\\\n\",\\\\n    \"contents = repo.get_contents(\\\\\\\\\"\\\\\\\\\")\\\\\\\\n\",\\\\n    \"while contents:\\\\\\\\n\",\\\\n    \"    file_content = contents.pop(0)\\\\\\\\n\",\\\\n    \"    if file_content.type == \\\\\\\\\"dir\\\\\\\\\":\\\\\\\\n\",\\\\n    \"        # Add contents of subfolder\\\\\\\\n\",\\\\n    \"        contents.extend(repo.get_contents(file_content.path))\\\\\\\\n\",\\\\n    \"    else:\\\\\\\\n\",\\\\n    \"        if file_content.path != \\\\\\\\\".gitignore\\\\\\\\\": # gitignore info just unnecessary tokens\\\\\\\\n\",\\\\n    \"            filepaths.append(file_content.path)\\\\\\\\n\",\\\\n    \"\\\\\\\\n\",\\\\n    \"filepaths\"\\\\n   ]\\\\n  },\\\\n  {\\\\n   \"cell_type\": \"code\",\\\\n   \"execution_count\": null,\\\\n   \"metadata\": {},\\\\n   \"outputs\": [],\\\\n   \"source\": [\\\\n    \"# Represent contents of repo in a long string\\\\\\\\n\",\\\\n    \"repo_content_string = \\\\\\\\\"\\\\\\\\\"\\\\\\\\n\",\\\\n    \"\\\\\\\\n\",\\\\n    \"for filepath in filepaths:\\\\\\\\n\",\\\\n    \"    repo_content_string += f\\\\\\\\\"FILE PATH:\\\\\\\\\\\\\\\\n{filepath}\\\\\\\\\\\\\\\\nFILE CONTENT:\\\\\\\\\\\\\\\\n\\\\\\\\\"\\\\\\\\n\",\\\\n    \"\\\\\\\\n\",\\\\n    \"    file_content = repo.get_contents(filepath).decoded_content\\\\\\\\n\",\\\\n    \"    repo_content_string += f\\\\\\\\\"{file_content}\\\\\\\\\\\\\\\\n\\\\\\\\\\\\\\\\n\\\\\\\\\"\\\\\\\\n\",\\\\n    \"\\\\\\\\n\",\\\\n    \"repo_content_string\"\\\\n   ]\\\\n  },\\\\n  {\\\\n   \"cell_type\": \"code\",\\\\n   \"execution_count\": null,\\\\n   \"metadata\": {},\\\\n   \"outputs\": [],\\\\n   \"source\": [\\\\n    \"# Authenticate\\\\\\\\n\",\\\\n    \"openai.api_key = os.getenv(\\\\\\\\\"OPENAI_API_KEY\\\\\\\\\")\"\\\\n   ]\\\\n  },\\\\n  {\\\\n   \"cell_type\": \"code\",\\\\n   \"execution_count\": null,\\\\n   \"metadata\": {},\\\\n   \"outputs\": [],\\\\n   \"source\": [\\\\n    \"system_message = \\\\\\\\\"You are a world-class 10X programmer.\\\\\\\\\" \\\\\\\\n\",\\\\n    \"\\\\\\\\n\",\\\\n    \"\\\\\\\\n\",\\\\n    \"task_description = \\\\\\\\\"Please take the general concept of the code in the test.ipynb notebook and turn it into well structured code with a script that can be executed in a user-friendly manner from the command line. Be sure to update the readme with good documentation and instructions as well\\\\\\\\\"\\\\\\\\n\",\\\\n    \"\\\\\\\\n\",\\\\n    \"clarification_prompt = \\\\\\\\\"Do not attempt to complete the task yet. Are there any questions you have about the task before you begin?\\\\\\\\\"\\\\\\\\n\",\\\\n    \"\\\\\\\\n\",\\\\n    \"first_message = f\\\\\\\\\"\\\\\\\\\"\\\\\\\\\"Here are the contents of a code repository on Github:\\\\\\\\n\",\\\\n    \"{repo_content_string}\\\\\\\\n\",\\\\n    \"Task Description:\\\\\\\\n\",\\\\n    \"{task_description}\\\\\\\\n\",\\\\n    \"{clarification_prompt}\\\\\\\\n\",\\\\n    \"\\\\\\\\\"\\\\\\\\\"\\\\\\\\\"\\\\\\\\n\",\\\\n    \"\\\\\\\\n\",\\\\n    \"response = openai.ChatCompletion.create(\\\\\\\\n\",\\\\n    \"  model=\\\\\\\\\"gpt-4-32k\\\\\\\\\",\\\\\\\\n\",\\\\n    \"  messages=[\\\\\\\\n\",\\\\n    \"        {\\\\\\\\\"role\\\\\\\\\": \\\\\\\\\"system\\\\\\\\\", \\\\\\\\\"content\\\\\\\\\": system_message},\\\\\\\\n\",\\\\n    \"        {\\\\\\\\\"role\\\\\\\\\": \\\\\\\\\"user\\\\\\\\\", \\\\\\\\\"content\\\\\\\\\": first_message}\\\\\\\\n\",\\\\n    \"    ]\\\\\\\\n\",\\\\n    \")\"\\\\n   ]\\\\n  },\\\\n  {\\\\n   \"cell_type\": \"code\",\\\\n   \"execution_count\": null,\\\\n   \"metadata\": {},\\\\n   \"outputs\": [],\\\\n   \"source\": [\\\\n    \"len(first_message.split(\\\\\\\\\" \\\\\\\\\"))\"\\\\n   ]\\\\n  },\\\\n  {\\\\n   \"cell_type\": \"code\",\\\\n   \"execution_count\": null,\\\\n   \"metadata\": {},\\\\n   \"outputs\": [],\\\\n   \"source\": [\\\\n    \"source_branch = \\\\\\'{repo.default_branch}\\\\\\'\\\\\\\\n\",\\\\n    \"target_branch = \\\\\\'test\\\\\\'\\\\\\\\n\",\\\\n    \"\\\\\\\\n\",\\\\n    \"try:\\\\\\\\n\",\\\\n    \"    # Test to see if branch already exists\\\\\\\\n\",\\\\n    \"    repo.get_branch(\\\\\\\\\"test\\\\\\\\\")\\\\\\\\n\",\\\\n    \"except GithubException as e:\\\\\\\\n\",\\\\n    \"    if e.status == 404:\\\\\\\\n\",\\\\n    \"        # If branch does not exist, create it\\\\\\\\n\",\\\\n    \"        sb = repo.get_branch(source_branch)\\\\\\\\n\",\\\\n    \"        repo.create_git_ref(ref=\\\\\\'refs/heads/\\\\\\' + target_branch, sha=sb.commit.sha)\\\\\\\\n\",\\\\n    \"\\\\\\\\n\",\\\\n    \"repo.get_branch(\\\\\\\\\"test\\\\\\\\\")\"\\\\n   ]\\\\n  },\\\\n  {\\\\n   \"cell_type\": \"code\",\\\\n   \"execution_count\": null,\\\\n   \"metadata\": {},\\\\n   \"outputs\": [],\\\\n   \"source\": [\\\\n    \"create_pr_message = f\\\\\\\\\"\\\\\\\\\"\\\\\\\\\"Ok, now please create a pull request to complete the task using the PyGithub Python library. You should create a new branch, create/modify/delete files as necessary, and then create a pull request.\\\\\\\\n\",\\\\n    \"\\\\\\\\n\",\\\\n    \"# Example of creating a branch\\\\\\\\n\",\\\\n    \"\\\\\\\\n\",\\\\n    \"source_branch = \\\\\\'{repo.default_branch}\\\\\\'\\\\\\\\n\",\\\\n    \"target_branch = \\\\\\'test\\\\\\'\\\\\\\\n\",\\\\n    \"\\\\\\\\n\",\\\\n    \"try:\\\\\\\\n\",\\\\n    \"    # Test to see if branch already exists\\\\\\\\n\",\\\\n    \"    repo.get_branch(\\\\\\\\\"test\\\\\\\\\")\\\\\\\\n\",\\\\n    \"except GithubException as e:\\\\\\\\n\",\\\\n    \"    if e.status == 404:\\\\\\\\n\",\\\\n    \"        # If branch does not exist, create it\\\\\\\\n\",\\\\n    \"        sb = repo.get_branch(source_branch)\\\\\\\\n\",\\\\n    \"        repo.create_git_ref(ref=\\\\\\'refs/heads/\\\\\\' + target_branch, sha=sb.commit.sha)\\\\\\\\n\",\\\\n    \"\\\\\\\\n\",\\\\n    \"# Example of creating a new file\\\\\\\\n\",\\\\n    \"file_content = \\\\\\\\\"This is the file content\\\\\\\\\"\\\\\\\\n\",\\\\n    \"commit_message = \\\\\\\\\"create test file\\\\\\\\\"\\\\\\\\n\",\\\\n    \"repo.create_file(path=\\\\\\\\\"test.txt\\\\\\\\\", message=commit_message, content=file_content, branch=\\\\\\\\\"test\\\\\\\\\")\\\\\\\\n\",\\\\n    \"\\\\\\\\n\",\\\\n    \"# Example of updating a file\\\\\\\\n\",\\\\n    \"contents = repo.get_contents(\\\\\\\\\"test.txt\\\\\\\\\", ref=\\\\\\\\\"test\\\\\\\\\")\\\\\\\\n\",\\\\n    \"repo.update_file(contents.path, \\\\\\\\\"more tests\\\\\\\\\", \\\\\\\\\"more tests\\\\\\\\\", contents.sha, branch=\\\\\\\\\"test\\\\\\\\\")\\\\\\\\n\",\\\\n    \"\\\\\\\\n\",\\\\n    \"# Example of deleting a file\\\\\\\\n\",\\\\n    \"contents = repo.get_contents(\\\\\\\\\"test.txt\\\\\\\\\", ref=\\\\\\\\\"test\\\\\\\\\")\\\\\\\\n\",\\\\n    \"repo.delete_file(contents.path, message=\\\\\\\\\"remove test\\\\\\\\\", sha=contents.sha, branch=\\\\\\\\\"test\\\\\\\\\")\\\\\\\\n\",\\\\n    \"\\\\\\\\n\",\\\\n    \"# Example of creating the PR\\\\\\\\n\",\\\\n    \"body = \\\\\\'\\\\\\'\\\\\\'\\\\\\\\n\",\\\\n    \"This PR created, updated and deleted a test file\\\\\\\\n\",\\\\n    \"\\\\\\'\\\\\\'\\\\\\'\\\\\\\\n\",\\\\n    \"repo.create_pull(title=\\\\\\\\\"Test file\\\\\\\\\", body=body, head=\\\\\\\\\"test\\\\\\\\\", base=repo.default_branch)\\\\\\\\n\",\\\\n    \"\\\\\\\\n\",\\\\n    \"\\\\\\\\n\",\\\\n    \"YOUR ENTIRE RESPONSE SHOULD BE EXCLUSIVELY PYTHON CODE. YOUR RESPONSE MUST RUN IN PYTHON AS-IS TO CREATE THE PULL REQUEST.\\\\\\\\n\",\\\\n    \"\\\\\\\\n\",\\\\n    \"Your response will be run in a python script after the following code has already been run.\\\\\\\\n\",\\\\n    \"\\\\\\\\n\",\\\\n    \"from github import Github, GithubException\\\\\\\\n\",\\\\n    \"\\\\\\\\n\",\\\\n    \"# Login and get repo\\\\\\\\n\",\\\\n    \"g = Github(os.getenv(\\\\\\\\\"GH_TOKEN\\\\\\\\\"))\\\\\\\\n\",\\\\n    \"repo = g.get_repo({repo_path})\\\\\\\\n\",\\\\n    \"\\\\\\\\n\",\\\\n    \"\\\\\\\\\"\\\\\\\\\"\\\\\\\\\"\\\\\\\\n\",\\\\n    \"\\\\\\\\n\",\\\\n    \"response = openai.ChatCompletion.create(\\\\\\\\n\",\\\\n    \"  model=\\\\\\\\\"gpt-4\\\\\\\\\",\\\\\\\\n\",\\\\n    \"  messages=[\\\\\\\\n\",\\\\n    \"        {\\\\\\\\\"role\\\\\\\\\": \\\\\\\\\"system\\\\\\\\\", \\\\\\\\\"content\\\\\\\\\": system_message},\\\\\\\\n\",\\\\n    \"        {\\\\\\\\\"role\\\\\\\\\": \\\\\\\\\"user\\\\\\\\\", \\\\\\\\\"content\\\\\\\\\": first_message},\\\\\\\\n\",\\\\n    \"        {\\\\\\\\\"role\\\\\\\\\": \\\\\\\\\"assistant\\\\\\\\\", \\\\\\\\\"content\\\\\\\\\": first_response_content},\\\\\\\\n\",\\\\n    \"        {\\\\\\\\\"role\\\\\\\\\": \\\\\\\\\"user\\\\\\\\\", \\\\\\\\\"content\\\\\\\\\": create_pr_message}\\\\\\\\n\",\\\\n    \"    ]\\\\\\\\n\",\\\\n    \")\"\\\\n   ]\\\\n  },\\\\n  {\\\\n   \"cell_type\": \"code\",\\\\n   \"execution_count\": null,\\\\n   \"metadata\": {},\\\\n   \"outputs\": [],\\\\n   \"source\": [\\\\n    \"## Need to separate out the middle of ```python\\\\\\\\\\\\\\\\n XXXX \\\\\\\\\\\\\\\\n```\\\\\\\\n\",\\\\n    \"## Probably need to specify to not import any non-standard packages\\\\\\\\n\",\\\\n    \"## Specifying that the response needs to be in python might be confusing if the repo is in another language\\\\\\\\n\",\\\\n    \"## Wrap calls to gpt-4 in try/except to handle connection issues\"\\\\n   ]\\\\n  },\\\\n  {\\\\n   \"cell_type\": \"code\",\\\\n   \"execution_count\": null,\\\\n   \"metadata\": {},\\\\n   \"outputs\": [],\\\\n   \"source\": [\\\\n    \"exec(parse_python_code(create_pr_response))\"\\\\n   ]\\\\n  }\\\\n ],\\\\n \"metadata\": {\\\\n  \"interpreter\": {\\\\n   \"hash\": \"aee8b7b246df8f9039afb4144a1f6fd8d2ca17a180786b69acc140d282b71a49\"\\\\n  },\\\\n  \"kernelspec\": {\\\\n   \"display_name\": \"Python 3.11.2 64-bit\",\\\\n   \"language\": \"python\",\\\\n   \"name\": \"python3\"\\\\n  },\\\\n  \"language_info\": {\\\\n   \"codemirror_mode\": {\\\\n    \"name\": \"ipython\",\\\\n    \"version\": 3\\\\n   },\\\\n   \"file_extension\": \".py\",\\\\n   \"mimetype\": \"text/x-python\",\\\\n   \"name\": \"python\",\\\\n   \"nbconvert_exporter\": \"python\",\\\\n   \"pygments_lexer\": \"ipython3\",\\\\n   \"version\": \"3.11.2\"\\\\n  },\\\\n  \"orig_nbformat\": 4\\\\n },\\\\n \"nbformat\": 4,\\\\n \"nbformat_minor\": 2\\\\n}\\\\n\\'\\n\\n'"
      ]
     },
     "execution_count": 21,
     "metadata": {},
     "output_type": "execute_result"
    }
   ],
   "source": [
    "# Represent contents of repo in a long string\n",
    "repo_content_string = \"\"\n",
    "\n",
    "for filepath in filepaths:\n",
    "    repo_content_string += f\"FILE PATH:\\n{filepath}\\nFILE CONTENT:\\n\"\n",
    "\n",
    "    file_content = repo.get_contents(filepath).decoded_content\n",
    "    repo_content_string += f\"{file_content}\\n\\n\"\n",
    "\n",
    "repo_content_string"
   ]
  },
  {
   "cell_type": "code",
   "execution_count": 22,
   "metadata": {},
   "outputs": [],
   "source": [
    "# Authenticate\n",
    "openai.api_key = os.getenv(\"OPENAI_API_KEY\")"
   ]
  },
  {
   "cell_type": "code",
   "execution_count": 47,
   "metadata": {},
   "outputs": [
    {
     "name": "stdout",
     "output_type": "stream",
     "text": [
      "You are a world-class 10X programmer.\n"
     ]
    }
   ],
   "source": [
    "import prompts\n",
    "print(prompts.SYSTEM_MESSAGE)"
   ]
  },
  {
   "cell_type": "code",
   "execution_count": 48,
   "metadata": {},
   "outputs": [],
   "source": [
    "# system_message = \"You are a world-class 10X programmer.\" \n",
    "\n",
    "\n",
    "task_description = \"The idea of the test.ipynb notebook is to have a user describe a pull request on a repo they would \\\n",
    "like to see and have gpt-4 (a human-level language model) generate code to create the pull request. \\\n",
    "Please take the general concept of the code in the test.ipynb notebook and turn it into well \\\n",
    "structured code with a script that can be executed in a user-friendly manner from the command line. Be sure to update \\\n",
    "the readme with good documentation and instructions as well. You should create a Python script from the test.ipynb notebook \\\n",
    "contents that can be run from the command line. There is no specific file structure or naming convention you need to use. \\\n",
    "Please keep the existing code in the test.ipynb notebook as is. Allow users to specify any useful user inputs through \\\n",
    "command-line arguments. Continue to use the gpt-4 model.\"\n",
    "\n",
    "clarification_prompt = \"Do not attempt to complete the task yet. Are there any questions you have about the task before you begin?\"\n",
    "\n",
    "first_message = f\"\"\"Here are the contents of a code repository on Github:\n",
    "{repo_content_string}\n",
    "Task Description:\n",
    "{task_description}\n",
    "{prompts.CLARIFICATION_PROMPT}\n",
    "\"\"\"\n",
    "\n",
    "# response = openai.ChatCompletion.create(\n",
    "#   model=\"gpt-4\",\n",
    "#   messages=[\n",
    "#         {\"role\": \"system\", \"content\": prompts.SYSTEM_MESSAGE},\n",
    "#         {\"role\": \"user\", \"content\": first_message}\n",
    "#     ]\n",
    "# )"
   ]
  },
  {
   "cell_type": "code",
   "execution_count": 23,
   "metadata": {},
   "outputs": [
    {
     "data": {
      "text/plain": [
       "6522"
      ]
     },
     "execution_count": 23,
     "metadata": {},
     "output_type": "execute_result"
    }
   ],
   "source": [
    "len(first_message.split(\" \"))"
   ]
  },
  {
   "cell_type": "code",
   "execution_count": 38,
   "metadata": {},
   "outputs": [
    {
     "data": {
      "text/plain": [
       "<OpenAIObject chat.completion id=chatcmpl-7LEZOkULsEVppesTFu4VuLDinblbI at 0x128877e90> JSON: {\n",
       "  \"choices\": [\n",
       "    {\n",
       "      \"finish_reason\": \"stop\",\n",
       "      \"index\": 0,\n",
       "      \"message\": {\n",
       "        \"content\": \"Before I begin converting the code in the test.ipynb notebook to a script that can be executed from the command line, I have a few questions:\\n\\n1. Do you want me to create a separate script file for the command-line execution, or should I incorporate it into an existing script file?\\n2. Are there any specific command-line arguments you would like to include? For example, would you like to allow users to specify the GitHub repository link or authentication token through command-line arguments?\\n3. The current code uses gpt-4 as the language model. Do you want me to keep using it or switch to a different model?\",\n",
       "        \"role\": \"assistant\"\n",
       "      }\n",
       "    }\n",
       "  ],\n",
       "  \"created\": 1685295250,\n",
       "  \"id\": \"chatcmpl-7LEZOkULsEVppesTFu4VuLDinblbI\",\n",
       "  \"model\": \"gpt-4-0314\",\n",
       "  \"object\": \"chat.completion\",\n",
       "  \"usage\": {\n",
       "    \"completion_tokens\": 128,\n",
       "    \"prompt_tokens\": 3506,\n",
       "    \"total_tokens\": 3634\n",
       "  }\n",
       "}"
      ]
     },
     "execution_count": 38,
     "metadata": {},
     "output_type": "execute_result"
    }
   ],
   "source": [
    "response"
   ]
  },
  {
   "cell_type": "code",
   "execution_count": 40,
   "metadata": {},
   "outputs": [],
   "source": [
    "first_message = f\"\"\"Here are the contents of a code repository on Github:\n",
    "{repo_content_string}\n",
    "Task Description:\n",
    "{task_description}\\n\\n\"\"\""
   ]
  },
  {
   "cell_type": "code",
   "execution_count": 52,
   "metadata": {},
   "outputs": [
    {
     "data": {
      "text/plain": [
       "'Scott-Huston/gpt_dev'"
      ]
     },
     "execution_count": 52,
     "metadata": {},
     "output_type": "execute_result"
    }
   ],
   "source": [
    "repo.full_name"
   ]
  },
  {
   "cell_type": "code",
   "execution_count": 41,
   "metadata": {},
   "outputs": [],
   "source": [
    "create_pr_message = f\"\"\"Ok, now please create a pull request to complete the task using the PyGithub Python library. You should create a new branch, create/modify/delete files as necessary, and then create a pull request.\n",
    "\n",
    "# Example of creating a branch\n",
    "\n",
    "source_branch = '{repo.default_branch}'\n",
    "target_branch = 'test'\n",
    "\n",
    "try:\n",
    "    # Test to see if branch already exists\n",
    "    repo.get_branch(\"test\")\n",
    "except GithubException as e:\n",
    "    if e.status == 404:\n",
    "        # If branch does not exist, create it\n",
    "        sb = repo.get_branch(source_branch)\n",
    "        repo.create_git_ref(ref='refs/heads/' + target_branch, sha=sb.commit.sha)\n",
    "\n",
    "# Example of creating a new file\n",
    "file_content = \"This is the file content\"\n",
    "commit_message = \"create test file\"\n",
    "repo.create_file(path=\"test.txt\", message=commit_message, content=file_content, branch=\"test\")\n",
    "\n",
    "# Example of updating a file\n",
    "contents = repo.get_contents(\"test.txt\", ref=\"test\")\n",
    "repo.update_file(contents.path, \"more tests\", \"more tests\", contents.sha, branch=\"test\")\n",
    "\n",
    "# Example of deleting a file\n",
    "contents = repo.get_contents(\"test.txt\", ref=\"test\")\n",
    "repo.delete_file(contents.path, message=\"remove test\", sha=contents.sha, branch=\"test\")\n",
    "\n",
    "# Example of creating the PR\n",
    "body = '''\n",
    "This PR created, updated and deleted a test file\n",
    "'''\n",
    "repo.create_pull(title=\"Test file\", body=body, head=\"test\", base=repo.default_branch)\n",
    "\n",
    "\n",
    "YOUR ENTIRE RESPONSE SHOULD BE EXCLUSIVELY PYTHON CODE. YOUR RESPONSE MUST RUN IN PYTHON AS-IS TO CREATE THE PULL REQUEST.\n",
    "\n",
    "Your response will be run in a python script after the following code has already been run.\n",
    "\n",
    "from github import Github, GithubException\n",
    "\n",
    "# Login and get repo\n",
    "g = Github(os.getenv(\"GH_TOKEN\"))\n",
    "repo = g.get_repo({repo_path})\n",
    "\n",
    "\"\"\"\n",
    "\n",
    "response = openai.ChatCompletion.create(\n",
    "  model=\"gpt-4\",\n",
    "  messages=[\n",
    "        {\"role\": \"system\", \"content\": system_message},\n",
    "        {\"role\": \"user\", \"content\": first_message}\n",
    "        {\"role\": \"assistant\", \"content\": first_response_content},\n",
    "        # {\"role\": \"user\", \"content\": create_pr_message}\n",
    "    ]\n",
    ")"
   ]
  },
  {
   "cell_type": "code",
   "execution_count": null,
   "metadata": {},
   "outputs": [],
   "source": [
    "## Need to separate out the middle of ```python\\n XXXX \\n```\n",
    "## Probably need to specify to not import any non-standard packages\n",
    "## Specifying that the response needs to be in python might be confusing if the repo is in another language\n",
    "## Wrap calls to gpt-4 in try/except to handle connection issues"
   ]
  },
  {
   "cell_type": "code",
   "execution_count": 33,
   "metadata": {},
   "outputs": [
    {
     "data": {
      "text/plain": [
       "<OpenAIObject chat.completion id=chatcmpl-7LEQLiAyUo3fFtiACifZpZRTQawDJ at 0x129346330> JSON: {\n",
       "  \"choices\": [\n",
       "    {\n",
       "      \"finish_reason\": \"stop\",\n",
       "      \"index\": 0,\n",
       "      \"message\": {\n",
       "        \"content\": \"I understand the task and I'll provide you with the Python script and the modifications in the README.md you requested. \\n\\nHere's the Python script `repo_manager.py` to convert the code from the test.ipynb notebook into a command-line script:\\n\\n```python\\nimport os\\nimport argparse\\nfrom github import Github, GithubException\\n\\ndef create_branch(repo, source_branch, target_branch):\\n    try:\\n        repo.get_branch(target_branch)\\n    except GithubException as e:\\n        if e.status == 404:\\n            sb = repo.get_branch(source_branch)\\n            repo.create_git_ref(ref='refs/heads/' + target_branch, sha=sb.commit.sha)\\n\\ndef create_file(repo, path, message, content, branch):\\n    repo.create_file(path=path, message=message, content=content, branch=branch)\\n\\ndef update_file(repo, path, message, content, branch):\\n    contents = repo.get_contents(path, ref=branch)\\n    repo.update_file(contents.path, message, content, contents.sha, branch=branch)\\n\\ndef delete_file(repo, path, message, branch):\\n    contents = repo.get_contents(path, ref=branch)\\n    repo.delete_file(contents.path, message=message, sha=contents.sha, branch=branch)\\n\\ndef create_pull_request(repo, title, body, head, base):\\n    repo.create_pull(title=title, body=body, head=head, base=base)\\n\\ndef main():\\n    parser = argparse.ArgumentParser(description='Manage GitHub repositories.')\\n    parser.add_argument('--token', type=str, help='GitHub authentication token')\\n    parser.add_argument('--repo', type=str, help='GitHub repository path (example: Scott-Huston/gpt_dev)')\\n\\n    args = parser.parse_args()\\n\\n    g = Github(args.token)\\n    repo = g.get_repo(args.repo)\\n\\n    source_branch = 'main'\\n    target_branch = 'test'\\n    create_branch(repo, source_branch, target_branch)\\n\\n    file_content = \\\"This is the file content\\\"\\n    commit_message = \\\"create test file\\\"\\n    create_file(repo, path=\\\"test.txt\\\", message=commit_message, content=file_content, branch=target_branch)\\n\\n    update_file(repo, path=\\\"test.txt\\\", message=\\\"more tests\\\", content=\\\"more tests\\\", branch=target_branch)\\n\\n    delete_file(repo, path=\\\"test.txt\\\", message=\\\"remove test\\\", branch=target_branch)\\n\\n    pr_body = '''\\n    This PR created, updated, and deleted a test file\\n    '''\\n    create_pull_request(repo, title=\\\"Test file\\\", body=pr_body, head=target_branch, base=source_branch)\\n\\nif __name__ == \\\"__main__\\\":\\n    main()\\n```\\n\\nYou can run this script from the command line as follows:\\n\\n```\\npython repo_manager.py --token YOUR_GITHUB_TOKEN --repo Scott-Huston/gpt_dev\\n```\\n\\nReplace `YOUR_GITHUB_TOKEN` with your actual GitHub personal access token.\\n\\nAdditionally, here's the updated README.md:\\n\\n```\\n# gpt_dev\\n\\nTo install required packages:\\n\\n```\\npip install -r requirements.txt\\n```\\n\\n## Usage\\n\\nThe `repo_manager.py` script helps you manage GitHub repositories. You can create branches, create/update/delete files, and create pull requests.\\n\\n### Command line usage\\n\\nRun the `repo_manager.py` script from the command line, providing your GitHub personal access token and the target repository:\\n\\n```\\npython repo_manager.py --token YOUR_GITHUB_TOKEN --repo REPOSITORY\\n```\\n\\nReplace `YOUR_GITHUB_TOKEN` with your actual GitHub personal access token and `REPOSITORY` with the target repository path (for example: Scott-Huston/gpt_dev).\\n```\",\n",
       "        \"role\": \"assistant\"\n",
       "      }\n",
       "    }\n",
       "  ],\n",
       "  \"created\": 1685294689,\n",
       "  \"id\": \"chatcmpl-7LEQLiAyUo3fFtiACifZpZRTQawDJ\",\n",
       "  \"model\": \"gpt-4-0314\",\n",
       "  \"object\": \"chat.completion\",\n",
       "  \"usage\": {\n",
       "    \"completion_tokens\": 730,\n",
       "    \"prompt_tokens\": 3826,\n",
       "    \"total_tokens\": 4556\n",
       "  }\n",
       "}"
      ]
     },
     "execution_count": 33,
     "metadata": {},
     "output_type": "execute_result"
    }
   ],
   "source": [
    "response"
   ]
  },
  {
   "cell_type": "code",
   "execution_count": 49,
   "metadata": {},
   "outputs": [
    {
     "name": "stdout",
     "output_type": "stream",
     "text": [
      "test\n"
     ]
    }
   ],
   "source": [
    "print(\"test\")\n",
    "test = input()"
   ]
  },
  {
   "cell_type": "code",
   "execution_count": 42,
   "metadata": {},
   "outputs": [],
   "source": [
    "create_pr_response = response[\"choices\"][0][\"message\"][\"content\"]"
   ]
  },
  {
   "cell_type": "code",
   "execution_count": 43,
   "metadata": {},
   "outputs": [
    {
     "name": "stdout",
     "output_type": "stream",
     "text": [
      "import os\n",
      "import argparse\n",
      "from github import Github, GithubException\n",
      "\n",
      "def create_pull_request(repo, source_branch='main', target_branch='test'):\n",
      "    try:\n",
      "        repo.get_branch(target_branch)\n",
      "    except GithubException as e:\n",
      "        if e.status == 404:\n",
      "            sb = repo.get_branch(source_branch)\n",
      "            repo.create_git_ref(ref='refs/heads/' + target_branch, sha=sb.commit.sha)\n",
      "\n",
      "    file_content = \"This is the file content\"\n",
      "    commit_message = \"create test file\"\n",
      "    repo.create_file(path=\"test.txt\", message=commit_message, content=file_content, branch=target_branch)\n",
      "\n",
      "    contents = repo.get_contents(\"test.txt\", ref=target_branch)\n",
      "    repo.update_file(contents.path, \"more tests\", \"more tests\", contents.sha, branch=target_branch)\n",
      "\n",
      "    contents = repo.get_contents(\"test.txt\", ref=target_branch)\n",
      "    repo.delete_file(contents.path, message=\"remove test\", sha=contents.sha, branch=target_branch)\n",
      "\n",
      "    body = '''\n",
      "    This PR created, updated and deleted a test file\n",
      "    '''\n",
      "    repo.create_pull(title=\"Test file\", body=body, head=target_branch, base=repo.default_branch)\n",
      "\n",
      "if __name__ == '__main__':\n",
      "    parser = argparse.ArgumentParser(description='Create a pull request using PyGithub.')\n",
      "    parser.add_argument('--repo', help='GitHub repository in the format owner/repo_name')\n",
      "    parser.add_argument('--token', help='GitHub access token')\n",
      "\n",
      "    args = parser.parse_args()\n",
      "\n",
      "    if not args.repo or not args.token:\n",
      "        parser.print_help()\n",
      "        exit(1)\n",
      "\n",
      "    g = Github(args.token)\n",
      "    repo = g.get_repo(args.repo)\n",
      "\n",
      "    create_pull_request(repo)\n"
     ]
    }
   ],
   "source": [
    "locs = parse_python_code(create_pr_response).split(\"\\n\")\n",
    "for loc in locs:\n",
    "    print(loc)"
   ]
  },
  {
   "cell_type": "code",
   "execution_count": null,
   "metadata": {},
   "outputs": [],
   "source": [
    "exec(parse_python_code(create_pr_response))"
   ]
  }
 ],
 "metadata": {
  "interpreter": {
   "hash": "aee8b7b246df8f9039afb4144a1f6fd8d2ca17a180786b69acc140d282b71a49"
  },
  "kernelspec": {
   "display_name": "Python 3.11.2 64-bit",
   "language": "python",
   "name": "python3"
  },
  "language_info": {
   "codemirror_mode": {
    "name": "ipython",
    "version": 3
   },
   "file_extension": ".py",
   "mimetype": "text/x-python",
   "name": "python",
   "nbconvert_exporter": "python",
   "pygments_lexer": "ipython3",
   "version": "3.11.2"
  },
  "orig_nbformat": 4
 },
 "nbformat": 4,
 "nbformat_minor": 2
}
